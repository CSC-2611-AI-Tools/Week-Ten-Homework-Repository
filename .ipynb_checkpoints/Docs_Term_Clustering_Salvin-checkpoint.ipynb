{
 "cells": [
  {
   "cell_type": "markdown",
   "metadata": {},
   "source": [
    "#### In this example, we illustrate various unsupervised learning techniques (Clustering, PCA, SVD) using an example term-document matrix as the data. "
   ]
  },
  {
   "cell_type": "code",
   "execution_count": 1,
   "metadata": {},
   "outputs": [],
   "source": [
    "import numpy as np\n",
    "import pylab as pl\n",
    "import pandas as pd\n",
    "from sklearn.cluster import KMeans "
   ]
  },
  {
   "cell_type": "code",
   "execution_count": 2,
   "metadata": {},
   "outputs": [],
   "source": [
    "Data = pd.read_csv(\"term-doc-mat.csv\", header=None)"
   ]
  },
  {
   "cell_type": "code",
   "execution_count": 3,
   "metadata": {},
   "outputs": [
    {
     "data": {
      "text/html": [
       "<div>\n",
       "<style scoped>\n",
       "    .dataframe tbody tr th:only-of-type {\n",
       "        vertical-align: middle;\n",
       "    }\n",
       "\n",
       "    .dataframe tbody tr th {\n",
       "        vertical-align: top;\n",
       "    }\n",
       "\n",
       "    .dataframe thead th {\n",
       "        text-align: right;\n",
       "    }\n",
       "</style>\n",
       "<table border=\"1\" class=\"dataframe\">\n",
       "  <thead>\n",
       "    <tr style=\"text-align: right;\">\n",
       "      <th></th>\n",
       "      <th>0</th>\n",
       "      <th>1</th>\n",
       "      <th>2</th>\n",
       "      <th>3</th>\n",
       "      <th>4</th>\n",
       "      <th>5</th>\n",
       "      <th>6</th>\n",
       "      <th>7</th>\n",
       "      <th>8</th>\n",
       "      <th>9</th>\n",
       "      <th>10</th>\n",
       "      <th>11</th>\n",
       "      <th>12</th>\n",
       "      <th>13</th>\n",
       "      <th>14</th>\n",
       "      <th>15</th>\n",
       "    </tr>\n",
       "  </thead>\n",
       "  <tbody>\n",
       "    <tr>\n",
       "      <td>0</td>\n",
       "      <td>database</td>\n",
       "      <td>24</td>\n",
       "      <td>32</td>\n",
       "      <td>12</td>\n",
       "      <td>6</td>\n",
       "      <td>43</td>\n",
       "      <td>2</td>\n",
       "      <td>0</td>\n",
       "      <td>3</td>\n",
       "      <td>1</td>\n",
       "      <td>6</td>\n",
       "      <td>4</td>\n",
       "      <td>0</td>\n",
       "      <td>0</td>\n",
       "      <td>0</td>\n",
       "      <td>0</td>\n",
       "    </tr>\n",
       "    <tr>\n",
       "      <td>1</td>\n",
       "      <td>index</td>\n",
       "      <td>9</td>\n",
       "      <td>5</td>\n",
       "      <td>5</td>\n",
       "      <td>2</td>\n",
       "      <td>20</td>\n",
       "      <td>0</td>\n",
       "      <td>1</td>\n",
       "      <td>0</td>\n",
       "      <td>0</td>\n",
       "      <td>0</td>\n",
       "      <td>27</td>\n",
       "      <td>14</td>\n",
       "      <td>3</td>\n",
       "      <td>2</td>\n",
       "      <td>11</td>\n",
       "    </tr>\n",
       "    <tr>\n",
       "      <td>2</td>\n",
       "      <td>likelihood</td>\n",
       "      <td>0</td>\n",
       "      <td>3</td>\n",
       "      <td>0</td>\n",
       "      <td>0</td>\n",
       "      <td>3</td>\n",
       "      <td>7</td>\n",
       "      <td>12</td>\n",
       "      <td>4</td>\n",
       "      <td>27</td>\n",
       "      <td>4</td>\n",
       "      <td>0</td>\n",
       "      <td>1</td>\n",
       "      <td>0</td>\n",
       "      <td>0</td>\n",
       "      <td>0</td>\n",
       "    </tr>\n",
       "    <tr>\n",
       "      <td>3</td>\n",
       "      <td>linear</td>\n",
       "      <td>3</td>\n",
       "      <td>0</td>\n",
       "      <td>0</td>\n",
       "      <td>0</td>\n",
       "      <td>0</td>\n",
       "      <td>16</td>\n",
       "      <td>0</td>\n",
       "      <td>2</td>\n",
       "      <td>25</td>\n",
       "      <td>23</td>\n",
       "      <td>7</td>\n",
       "      <td>12</td>\n",
       "      <td>21</td>\n",
       "      <td>3</td>\n",
       "      <td>2</td>\n",
       "    </tr>\n",
       "    <tr>\n",
       "      <td>4</td>\n",
       "      <td>matrix</td>\n",
       "      <td>1</td>\n",
       "      <td>0</td>\n",
       "      <td>0</td>\n",
       "      <td>0</td>\n",
       "      <td>0</td>\n",
       "      <td>33</td>\n",
       "      <td>2</td>\n",
       "      <td>0</td>\n",
       "      <td>7</td>\n",
       "      <td>12</td>\n",
       "      <td>14</td>\n",
       "      <td>5</td>\n",
       "      <td>12</td>\n",
       "      <td>4</td>\n",
       "      <td>0</td>\n",
       "    </tr>\n",
       "    <tr>\n",
       "      <td>5</td>\n",
       "      <td>query</td>\n",
       "      <td>12</td>\n",
       "      <td>2</td>\n",
       "      <td>0</td>\n",
       "      <td>0</td>\n",
       "      <td>27</td>\n",
       "      <td>0</td>\n",
       "      <td>0</td>\n",
       "      <td>0</td>\n",
       "      <td>0</td>\n",
       "      <td>22</td>\n",
       "      <td>9</td>\n",
       "      <td>4</td>\n",
       "      <td>0</td>\n",
       "      <td>5</td>\n",
       "      <td>3</td>\n",
       "    </tr>\n",
       "    <tr>\n",
       "      <td>6</td>\n",
       "      <td>regression</td>\n",
       "      <td>0</td>\n",
       "      <td>0</td>\n",
       "      <td>0</td>\n",
       "      <td>0</td>\n",
       "      <td>0</td>\n",
       "      <td>18</td>\n",
       "      <td>32</td>\n",
       "      <td>22</td>\n",
       "      <td>34</td>\n",
       "      <td>17</td>\n",
       "      <td>0</td>\n",
       "      <td>0</td>\n",
       "      <td>0</td>\n",
       "      <td>0</td>\n",
       "      <td>0</td>\n",
       "    </tr>\n",
       "    <tr>\n",
       "      <td>7</td>\n",
       "      <td>retrieval</td>\n",
       "      <td>1</td>\n",
       "      <td>0</td>\n",
       "      <td>0</td>\n",
       "      <td>0</td>\n",
       "      <td>2</td>\n",
       "      <td>0</td>\n",
       "      <td>0</td>\n",
       "      <td>0</td>\n",
       "      <td>3</td>\n",
       "      <td>9</td>\n",
       "      <td>27</td>\n",
       "      <td>7</td>\n",
       "      <td>5</td>\n",
       "      <td>4</td>\n",
       "      <td>4</td>\n",
       "    </tr>\n",
       "    <tr>\n",
       "      <td>8</td>\n",
       "      <td>sql</td>\n",
       "      <td>21</td>\n",
       "      <td>10</td>\n",
       "      <td>16</td>\n",
       "      <td>7</td>\n",
       "      <td>31</td>\n",
       "      <td>0</td>\n",
       "      <td>0</td>\n",
       "      <td>0</td>\n",
       "      <td>0</td>\n",
       "      <td>0</td>\n",
       "      <td>0</td>\n",
       "      <td>0</td>\n",
       "      <td>0</td>\n",
       "      <td>1</td>\n",
       "      <td>0</td>\n",
       "    </tr>\n",
       "    <tr>\n",
       "      <td>9</td>\n",
       "      <td>vector</td>\n",
       "      <td>2</td>\n",
       "      <td>0</td>\n",
       "      <td>0</td>\n",
       "      <td>2</td>\n",
       "      <td>0</td>\n",
       "      <td>27</td>\n",
       "      <td>4</td>\n",
       "      <td>2</td>\n",
       "      <td>11</td>\n",
       "      <td>8</td>\n",
       "      <td>33</td>\n",
       "      <td>16</td>\n",
       "      <td>14</td>\n",
       "      <td>7</td>\n",
       "      <td>3</td>\n",
       "    </tr>\n",
       "  </tbody>\n",
       "</table>\n",
       "</div>"
      ],
      "text/plain": [
       "           0   1   2   3   4   5   6   7   8   9   10  11  12  13  14  15\n",
       "0    database  24  32  12   6  43   2   0   3   1   6   4   0   0   0   0\n",
       "1       index   9   5   5   2  20   0   1   0   0   0  27  14   3   2  11\n",
       "2  likelihood   0   3   0   0   3   7  12   4  27   4   0   1   0   0   0\n",
       "3      linear   3   0   0   0   0  16   0   2  25  23   7  12  21   3   2\n",
       "4      matrix   1   0   0   0   0  33   2   0   7  12  14   5  12   4   0\n",
       "5       query  12   2   0   0  27   0   0   0   0  22   9   4   0   5   3\n",
       "6  regression   0   0   0   0   0  18  32  22  34  17   0   0   0   0   0\n",
       "7   retrieval   1   0   0   0   2   0   0   0   3   9  27   7   5   4   4\n",
       "8         sql  21  10  16   7  31   0   0   0   0   0   0   0   0   1   0\n",
       "9      vector   2   0   0   2   0  27   4   2  11   8  33  16  14   7   3"
      ]
     },
     "execution_count": 3,
     "metadata": {},
     "output_type": "execute_result"
    }
   ],
   "source": [
    "Data"
   ]
  },
  {
   "cell_type": "code",
   "execution_count": 4,
   "metadata": {},
   "outputs": [
    {
     "data": {
      "text/html": [
       "<div>\n",
       "<style scoped>\n",
       "    .dataframe tbody tr th:only-of-type {\n",
       "        vertical-align: middle;\n",
       "    }\n",
       "\n",
       "    .dataframe tbody tr th {\n",
       "        vertical-align: top;\n",
       "    }\n",
       "\n",
       "    .dataframe thead th {\n",
       "        text-align: right;\n",
       "    }\n",
       "</style>\n",
       "<table border=\"1\" class=\"dataframe\">\n",
       "  <thead>\n",
       "    <tr style=\"text-align: right;\">\n",
       "      <th></th>\n",
       "      <th>1</th>\n",
       "      <th>2</th>\n",
       "      <th>3</th>\n",
       "      <th>4</th>\n",
       "      <th>5</th>\n",
       "      <th>6</th>\n",
       "      <th>7</th>\n",
       "      <th>8</th>\n",
       "      <th>9</th>\n",
       "      <th>10</th>\n",
       "      <th>11</th>\n",
       "      <th>12</th>\n",
       "      <th>13</th>\n",
       "      <th>14</th>\n",
       "      <th>15</th>\n",
       "    </tr>\n",
       "  </thead>\n",
       "  <tbody>\n",
       "    <tr>\n",
       "      <td>0</td>\n",
       "      <td>24</td>\n",
       "      <td>32</td>\n",
       "      <td>12</td>\n",
       "      <td>6</td>\n",
       "      <td>43</td>\n",
       "      <td>2</td>\n",
       "      <td>0</td>\n",
       "      <td>3</td>\n",
       "      <td>1</td>\n",
       "      <td>6</td>\n",
       "      <td>4</td>\n",
       "      <td>0</td>\n",
       "      <td>0</td>\n",
       "      <td>0</td>\n",
       "      <td>0</td>\n",
       "    </tr>\n",
       "    <tr>\n",
       "      <td>1</td>\n",
       "      <td>9</td>\n",
       "      <td>5</td>\n",
       "      <td>5</td>\n",
       "      <td>2</td>\n",
       "      <td>20</td>\n",
       "      <td>0</td>\n",
       "      <td>1</td>\n",
       "      <td>0</td>\n",
       "      <td>0</td>\n",
       "      <td>0</td>\n",
       "      <td>27</td>\n",
       "      <td>14</td>\n",
       "      <td>3</td>\n",
       "      <td>2</td>\n",
       "      <td>11</td>\n",
       "    </tr>\n",
       "    <tr>\n",
       "      <td>2</td>\n",
       "      <td>0</td>\n",
       "      <td>3</td>\n",
       "      <td>0</td>\n",
       "      <td>0</td>\n",
       "      <td>3</td>\n",
       "      <td>7</td>\n",
       "      <td>12</td>\n",
       "      <td>4</td>\n",
       "      <td>27</td>\n",
       "      <td>4</td>\n",
       "      <td>0</td>\n",
       "      <td>1</td>\n",
       "      <td>0</td>\n",
       "      <td>0</td>\n",
       "      <td>0</td>\n",
       "    </tr>\n",
       "    <tr>\n",
       "      <td>3</td>\n",
       "      <td>3</td>\n",
       "      <td>0</td>\n",
       "      <td>0</td>\n",
       "      <td>0</td>\n",
       "      <td>0</td>\n",
       "      <td>16</td>\n",
       "      <td>0</td>\n",
       "      <td>2</td>\n",
       "      <td>25</td>\n",
       "      <td>23</td>\n",
       "      <td>7</td>\n",
       "      <td>12</td>\n",
       "      <td>21</td>\n",
       "      <td>3</td>\n",
       "      <td>2</td>\n",
       "    </tr>\n",
       "    <tr>\n",
       "      <td>4</td>\n",
       "      <td>1</td>\n",
       "      <td>0</td>\n",
       "      <td>0</td>\n",
       "      <td>0</td>\n",
       "      <td>0</td>\n",
       "      <td>33</td>\n",
       "      <td>2</td>\n",
       "      <td>0</td>\n",
       "      <td>7</td>\n",
       "      <td>12</td>\n",
       "      <td>14</td>\n",
       "      <td>5</td>\n",
       "      <td>12</td>\n",
       "      <td>4</td>\n",
       "      <td>0</td>\n",
       "    </tr>\n",
       "    <tr>\n",
       "      <td>5</td>\n",
       "      <td>12</td>\n",
       "      <td>2</td>\n",
       "      <td>0</td>\n",
       "      <td>0</td>\n",
       "      <td>27</td>\n",
       "      <td>0</td>\n",
       "      <td>0</td>\n",
       "      <td>0</td>\n",
       "      <td>0</td>\n",
       "      <td>22</td>\n",
       "      <td>9</td>\n",
       "      <td>4</td>\n",
       "      <td>0</td>\n",
       "      <td>5</td>\n",
       "      <td>3</td>\n",
       "    </tr>\n",
       "    <tr>\n",
       "      <td>6</td>\n",
       "      <td>0</td>\n",
       "      <td>0</td>\n",
       "      <td>0</td>\n",
       "      <td>0</td>\n",
       "      <td>0</td>\n",
       "      <td>18</td>\n",
       "      <td>32</td>\n",
       "      <td>22</td>\n",
       "      <td>34</td>\n",
       "      <td>17</td>\n",
       "      <td>0</td>\n",
       "      <td>0</td>\n",
       "      <td>0</td>\n",
       "      <td>0</td>\n",
       "      <td>0</td>\n",
       "    </tr>\n",
       "    <tr>\n",
       "      <td>7</td>\n",
       "      <td>1</td>\n",
       "      <td>0</td>\n",
       "      <td>0</td>\n",
       "      <td>0</td>\n",
       "      <td>2</td>\n",
       "      <td>0</td>\n",
       "      <td>0</td>\n",
       "      <td>0</td>\n",
       "      <td>3</td>\n",
       "      <td>9</td>\n",
       "      <td>27</td>\n",
       "      <td>7</td>\n",
       "      <td>5</td>\n",
       "      <td>4</td>\n",
       "      <td>4</td>\n",
       "    </tr>\n",
       "    <tr>\n",
       "      <td>8</td>\n",
       "      <td>21</td>\n",
       "      <td>10</td>\n",
       "      <td>16</td>\n",
       "      <td>7</td>\n",
       "      <td>31</td>\n",
       "      <td>0</td>\n",
       "      <td>0</td>\n",
       "      <td>0</td>\n",
       "      <td>0</td>\n",
       "      <td>0</td>\n",
       "      <td>0</td>\n",
       "      <td>0</td>\n",
       "      <td>0</td>\n",
       "      <td>1</td>\n",
       "      <td>0</td>\n",
       "    </tr>\n",
       "    <tr>\n",
       "      <td>9</td>\n",
       "      <td>2</td>\n",
       "      <td>0</td>\n",
       "      <td>0</td>\n",
       "      <td>2</td>\n",
       "      <td>0</td>\n",
       "      <td>27</td>\n",
       "      <td>4</td>\n",
       "      <td>2</td>\n",
       "      <td>11</td>\n",
       "      <td>8</td>\n",
       "      <td>33</td>\n",
       "      <td>16</td>\n",
       "      <td>14</td>\n",
       "      <td>7</td>\n",
       "      <td>3</td>\n",
       "    </tr>\n",
       "  </tbody>\n",
       "</table>\n",
       "</div>"
      ],
      "text/plain": [
       "   1   2   3   4   5   6   7   8   9   10  11  12  13  14  15\n",
       "0  24  32  12   6  43   2   0   3   1   6   4   0   0   0   0\n",
       "1   9   5   5   2  20   0   1   0   0   0  27  14   3   2  11\n",
       "2   0   3   0   0   3   7  12   4  27   4   0   1   0   0   0\n",
       "3   3   0   0   0   0  16   0   2  25  23   7  12  21   3   2\n",
       "4   1   0   0   0   0  33   2   0   7  12  14   5  12   4   0\n",
       "5  12   2   0   0  27   0   0   0   0  22   9   4   0   5   3\n",
       "6   0   0   0   0   0  18  32  22  34  17   0   0   0   0   0\n",
       "7   1   0   0   0   2   0   0   0   3   9  27   7   5   4   4\n",
       "8  21  10  16   7  31   0   0   0   0   0   0   0   0   1   0\n",
       "9   2   0   0   2   0  27   4   2  11   8  33  16  14   7   3"
      ]
     },
     "execution_count": 4,
     "metadata": {},
     "output_type": "execute_result"
    }
   ],
   "source": [
    "# Let's remove the column containing the terms\n",
    "# TD will be out term x document matrix\n",
    "TD = Data.iloc[:,1:]\n",
    "TD"
   ]
  },
  {
   "cell_type": "code",
   "execution_count": 5,
   "metadata": {},
   "outputs": [
    {
     "data": {
      "text/html": [
       "<div>\n",
       "<style scoped>\n",
       "    .dataframe tbody tr th:only-of-type {\n",
       "        vertical-align: middle;\n",
       "    }\n",
       "\n",
       "    .dataframe tbody tr th {\n",
       "        vertical-align: top;\n",
       "    }\n",
       "\n",
       "    .dataframe thead th {\n",
       "        text-align: right;\n",
       "    }\n",
       "</style>\n",
       "<table border=\"1\" class=\"dataframe\">\n",
       "  <thead>\n",
       "    <tr style=\"text-align: right;\">\n",
       "      <th></th>\n",
       "      <th>0</th>\n",
       "      <th>1</th>\n",
       "      <th>2</th>\n",
       "      <th>3</th>\n",
       "      <th>4</th>\n",
       "      <th>5</th>\n",
       "      <th>6</th>\n",
       "      <th>7</th>\n",
       "      <th>8</th>\n",
       "      <th>9</th>\n",
       "      <th>10</th>\n",
       "      <th>11</th>\n",
       "      <th>12</th>\n",
       "      <th>13</th>\n",
       "      <th>14</th>\n",
       "    </tr>\n",
       "  </thead>\n",
       "  <tbody>\n",
       "    <tr>\n",
       "      <td>0</td>\n",
       "      <td>24</td>\n",
       "      <td>32</td>\n",
       "      <td>12</td>\n",
       "      <td>6</td>\n",
       "      <td>43</td>\n",
       "      <td>2</td>\n",
       "      <td>0</td>\n",
       "      <td>3</td>\n",
       "      <td>1</td>\n",
       "      <td>6</td>\n",
       "      <td>4</td>\n",
       "      <td>0</td>\n",
       "      <td>0</td>\n",
       "      <td>0</td>\n",
       "      <td>0</td>\n",
       "    </tr>\n",
       "    <tr>\n",
       "      <td>1</td>\n",
       "      <td>9</td>\n",
       "      <td>5</td>\n",
       "      <td>5</td>\n",
       "      <td>2</td>\n",
       "      <td>20</td>\n",
       "      <td>0</td>\n",
       "      <td>1</td>\n",
       "      <td>0</td>\n",
       "      <td>0</td>\n",
       "      <td>0</td>\n",
       "      <td>27</td>\n",
       "      <td>14</td>\n",
       "      <td>3</td>\n",
       "      <td>2</td>\n",
       "      <td>11</td>\n",
       "    </tr>\n",
       "    <tr>\n",
       "      <td>2</td>\n",
       "      <td>0</td>\n",
       "      <td>3</td>\n",
       "      <td>0</td>\n",
       "      <td>0</td>\n",
       "      <td>3</td>\n",
       "      <td>7</td>\n",
       "      <td>12</td>\n",
       "      <td>4</td>\n",
       "      <td>27</td>\n",
       "      <td>4</td>\n",
       "      <td>0</td>\n",
       "      <td>1</td>\n",
       "      <td>0</td>\n",
       "      <td>0</td>\n",
       "      <td>0</td>\n",
       "    </tr>\n",
       "    <tr>\n",
       "      <td>3</td>\n",
       "      <td>3</td>\n",
       "      <td>0</td>\n",
       "      <td>0</td>\n",
       "      <td>0</td>\n",
       "      <td>0</td>\n",
       "      <td>16</td>\n",
       "      <td>0</td>\n",
       "      <td>2</td>\n",
       "      <td>25</td>\n",
       "      <td>23</td>\n",
       "      <td>7</td>\n",
       "      <td>12</td>\n",
       "      <td>21</td>\n",
       "      <td>3</td>\n",
       "      <td>2</td>\n",
       "    </tr>\n",
       "    <tr>\n",
       "      <td>4</td>\n",
       "      <td>1</td>\n",
       "      <td>0</td>\n",
       "      <td>0</td>\n",
       "      <td>0</td>\n",
       "      <td>0</td>\n",
       "      <td>33</td>\n",
       "      <td>2</td>\n",
       "      <td>0</td>\n",
       "      <td>7</td>\n",
       "      <td>12</td>\n",
       "      <td>14</td>\n",
       "      <td>5</td>\n",
       "      <td>12</td>\n",
       "      <td>4</td>\n",
       "      <td>0</td>\n",
       "    </tr>\n",
       "    <tr>\n",
       "      <td>5</td>\n",
       "      <td>12</td>\n",
       "      <td>2</td>\n",
       "      <td>0</td>\n",
       "      <td>0</td>\n",
       "      <td>27</td>\n",
       "      <td>0</td>\n",
       "      <td>0</td>\n",
       "      <td>0</td>\n",
       "      <td>0</td>\n",
       "      <td>22</td>\n",
       "      <td>9</td>\n",
       "      <td>4</td>\n",
       "      <td>0</td>\n",
       "      <td>5</td>\n",
       "      <td>3</td>\n",
       "    </tr>\n",
       "    <tr>\n",
       "      <td>6</td>\n",
       "      <td>0</td>\n",
       "      <td>0</td>\n",
       "      <td>0</td>\n",
       "      <td>0</td>\n",
       "      <td>0</td>\n",
       "      <td>18</td>\n",
       "      <td>32</td>\n",
       "      <td>22</td>\n",
       "      <td>34</td>\n",
       "      <td>17</td>\n",
       "      <td>0</td>\n",
       "      <td>0</td>\n",
       "      <td>0</td>\n",
       "      <td>0</td>\n",
       "      <td>0</td>\n",
       "    </tr>\n",
       "    <tr>\n",
       "      <td>7</td>\n",
       "      <td>1</td>\n",
       "      <td>0</td>\n",
       "      <td>0</td>\n",
       "      <td>0</td>\n",
       "      <td>2</td>\n",
       "      <td>0</td>\n",
       "      <td>0</td>\n",
       "      <td>0</td>\n",
       "      <td>3</td>\n",
       "      <td>9</td>\n",
       "      <td>27</td>\n",
       "      <td>7</td>\n",
       "      <td>5</td>\n",
       "      <td>4</td>\n",
       "      <td>4</td>\n",
       "    </tr>\n",
       "    <tr>\n",
       "      <td>8</td>\n",
       "      <td>21</td>\n",
       "      <td>10</td>\n",
       "      <td>16</td>\n",
       "      <td>7</td>\n",
       "      <td>31</td>\n",
       "      <td>0</td>\n",
       "      <td>0</td>\n",
       "      <td>0</td>\n",
       "      <td>0</td>\n",
       "      <td>0</td>\n",
       "      <td>0</td>\n",
       "      <td>0</td>\n",
       "      <td>0</td>\n",
       "      <td>1</td>\n",
       "      <td>0</td>\n",
       "    </tr>\n",
       "    <tr>\n",
       "      <td>9</td>\n",
       "      <td>2</td>\n",
       "      <td>0</td>\n",
       "      <td>0</td>\n",
       "      <td>2</td>\n",
       "      <td>0</td>\n",
       "      <td>27</td>\n",
       "      <td>4</td>\n",
       "      <td>2</td>\n",
       "      <td>11</td>\n",
       "      <td>8</td>\n",
       "      <td>33</td>\n",
       "      <td>16</td>\n",
       "      <td>14</td>\n",
       "      <td>7</td>\n",
       "      <td>3</td>\n",
       "    </tr>\n",
       "  </tbody>\n",
       "</table>\n",
       "</div>"
      ],
      "text/plain": [
       "    0   1   2  3   4   5   6   7   8   9  10  11  12  13  14\n",
       "0  24  32  12  6  43   2   0   3   1   6   4   0   0   0   0\n",
       "1   9   5   5  2  20   0   1   0   0   0  27  14   3   2  11\n",
       "2   0   3   0  0   3   7  12   4  27   4   0   1   0   0   0\n",
       "3   3   0   0  0   0  16   0   2  25  23   7  12  21   3   2\n",
       "4   1   0   0  0   0  33   2   0   7  12  14   5  12   4   0\n",
       "5  12   2   0  0  27   0   0   0   0  22   9   4   0   5   3\n",
       "6   0   0   0  0   0  18  32  22  34  17   0   0   0   0   0\n",
       "7   1   0   0  0   2   0   0   0   3   9  27   7   5   4   4\n",
       "8  21  10  16  7  31   0   0   0   0   0   0   0   0   1   0\n",
       "9   2   0   0  2   0  27   4   2  11   8  33  16  14   7   3"
      ]
     },
     "execution_count": 5,
     "metadata": {},
     "output_type": "execute_result"
    }
   ],
   "source": [
    "# Reindex the columns to start from 0\n",
    "TD.columns= range(15)\n",
    "TD"
   ]
  },
  {
   "cell_type": "code",
   "execution_count": 6,
   "metadata": {},
   "outputs": [
    {
     "data": {
      "text/plain": [
       "0      database\n",
       "1         index\n",
       "2    likelihood\n",
       "3        linear\n",
       "4        matrix\n",
       "5         query\n",
       "6    regression\n",
       "7     retrieval\n",
       "8           sql\n",
       "9        vector\n",
       "Name: 0, dtype: object"
      ]
     },
     "execution_count": 6,
     "metadata": {},
     "output_type": "execute_result"
    }
   ],
   "source": [
    "# The list of our index terms\n",
    "terms = Data.iloc[:,0]\n",
    "terms"
   ]
  },
  {
   "cell_type": "markdown",
   "metadata": {},
   "source": [
    "#### First, we want to do some document clustering. Since the data is in term-document format, we need to obtain the transpose of the TD matrix."
   ]
  },
  {
   "cell_type": "code",
   "execution_count": 7,
   "metadata": {},
   "outputs": [],
   "source": [
    "DT = TD.T"
   ]
  },
  {
   "cell_type": "markdown",
   "metadata": {},
   "source": [
    "#### Now we have a document-term matrix:"
   ]
  },
  {
   "cell_type": "code",
   "execution_count": 8,
   "metadata": {},
   "outputs": [
    {
     "data": {
      "text/html": [
       "<div>\n",
       "<style scoped>\n",
       "    .dataframe tbody tr th:only-of-type {\n",
       "        vertical-align: middle;\n",
       "    }\n",
       "\n",
       "    .dataframe tbody tr th {\n",
       "        vertical-align: top;\n",
       "    }\n",
       "\n",
       "    .dataframe thead th {\n",
       "        text-align: right;\n",
       "    }\n",
       "</style>\n",
       "<table border=\"1\" class=\"dataframe\">\n",
       "  <thead>\n",
       "    <tr style=\"text-align: right;\">\n",
       "      <th></th>\n",
       "      <th>0</th>\n",
       "      <th>1</th>\n",
       "      <th>2</th>\n",
       "      <th>3</th>\n",
       "      <th>4</th>\n",
       "      <th>5</th>\n",
       "      <th>6</th>\n",
       "      <th>7</th>\n",
       "      <th>8</th>\n",
       "      <th>9</th>\n",
       "    </tr>\n",
       "  </thead>\n",
       "  <tbody>\n",
       "    <tr>\n",
       "      <td>0</td>\n",
       "      <td>24</td>\n",
       "      <td>9</td>\n",
       "      <td>0</td>\n",
       "      <td>3</td>\n",
       "      <td>1</td>\n",
       "      <td>12</td>\n",
       "      <td>0</td>\n",
       "      <td>1</td>\n",
       "      <td>21</td>\n",
       "      <td>2</td>\n",
       "    </tr>\n",
       "    <tr>\n",
       "      <td>1</td>\n",
       "      <td>32</td>\n",
       "      <td>5</td>\n",
       "      <td>3</td>\n",
       "      <td>0</td>\n",
       "      <td>0</td>\n",
       "      <td>2</td>\n",
       "      <td>0</td>\n",
       "      <td>0</td>\n",
       "      <td>10</td>\n",
       "      <td>0</td>\n",
       "    </tr>\n",
       "    <tr>\n",
       "      <td>2</td>\n",
       "      <td>12</td>\n",
       "      <td>5</td>\n",
       "      <td>0</td>\n",
       "      <td>0</td>\n",
       "      <td>0</td>\n",
       "      <td>0</td>\n",
       "      <td>0</td>\n",
       "      <td>0</td>\n",
       "      <td>16</td>\n",
       "      <td>0</td>\n",
       "    </tr>\n",
       "    <tr>\n",
       "      <td>3</td>\n",
       "      <td>6</td>\n",
       "      <td>2</td>\n",
       "      <td>0</td>\n",
       "      <td>0</td>\n",
       "      <td>0</td>\n",
       "      <td>0</td>\n",
       "      <td>0</td>\n",
       "      <td>0</td>\n",
       "      <td>7</td>\n",
       "      <td>2</td>\n",
       "    </tr>\n",
       "    <tr>\n",
       "      <td>4</td>\n",
       "      <td>43</td>\n",
       "      <td>20</td>\n",
       "      <td>3</td>\n",
       "      <td>0</td>\n",
       "      <td>0</td>\n",
       "      <td>27</td>\n",
       "      <td>0</td>\n",
       "      <td>2</td>\n",
       "      <td>31</td>\n",
       "      <td>0</td>\n",
       "    </tr>\n",
       "    <tr>\n",
       "      <td>5</td>\n",
       "      <td>2</td>\n",
       "      <td>0</td>\n",
       "      <td>7</td>\n",
       "      <td>16</td>\n",
       "      <td>33</td>\n",
       "      <td>0</td>\n",
       "      <td>18</td>\n",
       "      <td>0</td>\n",
       "      <td>0</td>\n",
       "      <td>27</td>\n",
       "    </tr>\n",
       "    <tr>\n",
       "      <td>6</td>\n",
       "      <td>0</td>\n",
       "      <td>1</td>\n",
       "      <td>12</td>\n",
       "      <td>0</td>\n",
       "      <td>2</td>\n",
       "      <td>0</td>\n",
       "      <td>32</td>\n",
       "      <td>0</td>\n",
       "      <td>0</td>\n",
       "      <td>4</td>\n",
       "    </tr>\n",
       "    <tr>\n",
       "      <td>7</td>\n",
       "      <td>3</td>\n",
       "      <td>0</td>\n",
       "      <td>4</td>\n",
       "      <td>2</td>\n",
       "      <td>0</td>\n",
       "      <td>0</td>\n",
       "      <td>22</td>\n",
       "      <td>0</td>\n",
       "      <td>0</td>\n",
       "      <td>2</td>\n",
       "    </tr>\n",
       "    <tr>\n",
       "      <td>8</td>\n",
       "      <td>1</td>\n",
       "      <td>0</td>\n",
       "      <td>27</td>\n",
       "      <td>25</td>\n",
       "      <td>7</td>\n",
       "      <td>0</td>\n",
       "      <td>34</td>\n",
       "      <td>3</td>\n",
       "      <td>0</td>\n",
       "      <td>11</td>\n",
       "    </tr>\n",
       "    <tr>\n",
       "      <td>9</td>\n",
       "      <td>6</td>\n",
       "      <td>0</td>\n",
       "      <td>4</td>\n",
       "      <td>23</td>\n",
       "      <td>12</td>\n",
       "      <td>22</td>\n",
       "      <td>17</td>\n",
       "      <td>9</td>\n",
       "      <td>0</td>\n",
       "      <td>8</td>\n",
       "    </tr>\n",
       "    <tr>\n",
       "      <td>10</td>\n",
       "      <td>4</td>\n",
       "      <td>27</td>\n",
       "      <td>0</td>\n",
       "      <td>7</td>\n",
       "      <td>14</td>\n",
       "      <td>9</td>\n",
       "      <td>0</td>\n",
       "      <td>27</td>\n",
       "      <td>0</td>\n",
       "      <td>33</td>\n",
       "    </tr>\n",
       "    <tr>\n",
       "      <td>11</td>\n",
       "      <td>0</td>\n",
       "      <td>14</td>\n",
       "      <td>1</td>\n",
       "      <td>12</td>\n",
       "      <td>5</td>\n",
       "      <td>4</td>\n",
       "      <td>0</td>\n",
       "      <td>7</td>\n",
       "      <td>0</td>\n",
       "      <td>16</td>\n",
       "    </tr>\n",
       "    <tr>\n",
       "      <td>12</td>\n",
       "      <td>0</td>\n",
       "      <td>3</td>\n",
       "      <td>0</td>\n",
       "      <td>21</td>\n",
       "      <td>12</td>\n",
       "      <td>0</td>\n",
       "      <td>0</td>\n",
       "      <td>5</td>\n",
       "      <td>0</td>\n",
       "      <td>14</td>\n",
       "    </tr>\n",
       "    <tr>\n",
       "      <td>13</td>\n",
       "      <td>0</td>\n",
       "      <td>2</td>\n",
       "      <td>0</td>\n",
       "      <td>3</td>\n",
       "      <td>4</td>\n",
       "      <td>5</td>\n",
       "      <td>0</td>\n",
       "      <td>4</td>\n",
       "      <td>1</td>\n",
       "      <td>7</td>\n",
       "    </tr>\n",
       "    <tr>\n",
       "      <td>14</td>\n",
       "      <td>0</td>\n",
       "      <td>11</td>\n",
       "      <td>0</td>\n",
       "      <td>2</td>\n",
       "      <td>0</td>\n",
       "      <td>3</td>\n",
       "      <td>0</td>\n",
       "      <td>4</td>\n",
       "      <td>0</td>\n",
       "      <td>3</td>\n",
       "    </tr>\n",
       "  </tbody>\n",
       "</table>\n",
       "</div>"
      ],
      "text/plain": [
       "     0   1   2   3   4   5   6   7   8   9\n",
       "0   24   9   0   3   1  12   0   1  21   2\n",
       "1   32   5   3   0   0   2   0   0  10   0\n",
       "2   12   5   0   0   0   0   0   0  16   0\n",
       "3    6   2   0   0   0   0   0   0   7   2\n",
       "4   43  20   3   0   0  27   0   2  31   0\n",
       "5    2   0   7  16  33   0  18   0   0  27\n",
       "6    0   1  12   0   2   0  32   0   0   4\n",
       "7    3   0   4   2   0   0  22   0   0   2\n",
       "8    1   0  27  25   7   0  34   3   0  11\n",
       "9    6   0   4  23  12  22  17   9   0   8\n",
       "10   4  27   0   7  14   9   0  27   0  33\n",
       "11   0  14   1  12   5   4   0   7   0  16\n",
       "12   0   3   0  21  12   0   0   5   0  14\n",
       "13   0   2   0   3   4   5   0   4   1   7\n",
       "14   0  11   0   2   0   3   0   4   0   3"
      ]
     },
     "execution_count": 8,
     "metadata": {},
     "output_type": "execute_result"
    }
   ],
   "source": [
    "DT"
   ]
  },
  {
   "cell_type": "code",
   "execution_count": 9,
   "metadata": {},
   "outputs": [],
   "source": [
    "numTerms=TD.shape[0]\n",
    "NDocs = TD.shape[1]"
   ]
  },
  {
   "cell_type": "markdown",
   "metadata": {},
   "source": [
    "#### Next, we will transform the data to TFxIDF weights (this is not necessary for clustering, but we will do it here for illustration purposes):"
   ]
  },
  {
   "cell_type": "code",
   "execution_count": 10,
   "metadata": {},
   "outputs": [
    {
     "data": {
      "text/html": [
       "<div>\n",
       "<style scoped>\n",
       "    .dataframe tbody tr th:only-of-type {\n",
       "        vertical-align: middle;\n",
       "    }\n",
       "\n",
       "    .dataframe tbody tr th {\n",
       "        vertical-align: top;\n",
       "    }\n",
       "\n",
       "    .dataframe thead th {\n",
       "        text-align: right;\n",
       "    }\n",
       "</style>\n",
       "<table border=\"1\" class=\"dataframe\">\n",
       "  <thead>\n",
       "    <tr style=\"text-align: right;\">\n",
       "      <th></th>\n",
       "      <th>0</th>\n",
       "    </tr>\n",
       "  </thead>\n",
       "  <tbody>\n",
       "    <tr>\n",
       "      <td>0</td>\n",
       "      <td>10</td>\n",
       "    </tr>\n",
       "    <tr>\n",
       "      <td>1</td>\n",
       "      <td>11</td>\n",
       "    </tr>\n",
       "    <tr>\n",
       "      <td>2</td>\n",
       "      <td>8</td>\n",
       "    </tr>\n",
       "    <tr>\n",
       "      <td>3</td>\n",
       "      <td>10</td>\n",
       "    </tr>\n",
       "    <tr>\n",
       "      <td>4</td>\n",
       "      <td>9</td>\n",
       "    </tr>\n",
       "    <tr>\n",
       "      <td>5</td>\n",
       "      <td>8</td>\n",
       "    </tr>\n",
       "    <tr>\n",
       "      <td>6</td>\n",
       "      <td>5</td>\n",
       "    </tr>\n",
       "    <tr>\n",
       "      <td>7</td>\n",
       "      <td>9</td>\n",
       "    </tr>\n",
       "    <tr>\n",
       "      <td>8</td>\n",
       "      <td>6</td>\n",
       "    </tr>\n",
       "    <tr>\n",
       "      <td>9</td>\n",
       "      <td>12</td>\n",
       "    </tr>\n",
       "  </tbody>\n",
       "</table>\n",
       "</div>"
      ],
      "text/plain": [
       "    0\n",
       "0  10\n",
       "1  11\n",
       "2   8\n",
       "3  10\n",
       "4   9\n",
       "5   8\n",
       "6   5\n",
       "7   9\n",
       "8   6\n",
       "9  12"
      ]
     },
     "execution_count": 10,
     "metadata": {},
     "output_type": "execute_result"
    }
   ],
   "source": [
    "# Note: doc frequency (df) for a term t is the number of docs in which t appears divided by total number of docs\n",
    "\n",
    "# first let's find the doc counts for each term\n",
    "\n",
    "DF = pd.DataFrame([(TD!=0).sum(1)]).T\n",
    "DF"
   ]
  },
  {
   "cell_type": "code",
   "execution_count": 11,
   "metadata": {},
   "outputs": [
    {
     "name": "stdout",
     "output_type": "stream",
     "text": [
      "[[15. 15. 15. 15. 15. 15. 15. 15. 15. 15. 15. 15. 15. 15. 15.]\n",
      " [15. 15. 15. 15. 15. 15. 15. 15. 15. 15. 15. 15. 15. 15. 15.]\n",
      " [15. 15. 15. 15. 15. 15. 15. 15. 15. 15. 15. 15. 15. 15. 15.]\n",
      " [15. 15. 15. 15. 15. 15. 15. 15. 15. 15. 15. 15. 15. 15. 15.]\n",
      " [15. 15. 15. 15. 15. 15. 15. 15. 15. 15. 15. 15. 15. 15. 15.]\n",
      " [15. 15. 15. 15. 15. 15. 15. 15. 15. 15. 15. 15. 15. 15. 15.]\n",
      " [15. 15. 15. 15. 15. 15. 15. 15. 15. 15. 15. 15. 15. 15. 15.]\n",
      " [15. 15. 15. 15. 15. 15. 15. 15. 15. 15. 15. 15. 15. 15. 15.]\n",
      " [15. 15. 15. 15. 15. 15. 15. 15. 15. 15. 15. 15. 15. 15. 15.]\n",
      " [15. 15. 15. 15. 15. 15. 15. 15. 15. 15. 15. 15. 15. 15. 15.]]\n"
     ]
    }
   ],
   "source": [
    "# Create a matrix with all entries = NDocs\n",
    "NMatrix=np.ones(np.shape(TD), dtype=float)*NDocs\n",
    "np.set_printoptions(precision=2,suppress=True,linewidth=120)\n",
    "print(NMatrix)"
   ]
  },
  {
   "cell_type": "code",
   "execution_count": 12,
   "metadata": {},
   "outputs": [],
   "source": [
    "# Convert each entry into IDF values\n",
    "# IDF is the log of the inverse of document frequency\n",
    "# Note that IDF is only a function of the term, so all columns will be identical.\n",
    "\n",
    "IDF = np.log2(np.divide(NMatrix, np.array(DF)))"
   ]
  },
  {
   "cell_type": "code",
   "execution_count": 13,
   "metadata": {},
   "outputs": [
    {
     "name": "stdout",
     "output_type": "stream",
     "text": [
      "[[0.58 0.58 0.58 0.58 0.58 0.58 0.58 0.58 0.58 0.58 0.58 0.58 0.58 0.58 0.58]\n",
      " [0.45 0.45 0.45 0.45 0.45 0.45 0.45 0.45 0.45 0.45 0.45 0.45 0.45 0.45 0.45]\n",
      " [0.91 0.91 0.91 0.91 0.91 0.91 0.91 0.91 0.91 0.91 0.91 0.91 0.91 0.91 0.91]\n",
      " [0.58 0.58 0.58 0.58 0.58 0.58 0.58 0.58 0.58 0.58 0.58 0.58 0.58 0.58 0.58]\n",
      " [0.74 0.74 0.74 0.74 0.74 0.74 0.74 0.74 0.74 0.74 0.74 0.74 0.74 0.74 0.74]\n",
      " [0.91 0.91 0.91 0.91 0.91 0.91 0.91 0.91 0.91 0.91 0.91 0.91 0.91 0.91 0.91]\n",
      " [1.58 1.58 1.58 1.58 1.58 1.58 1.58 1.58 1.58 1.58 1.58 1.58 1.58 1.58 1.58]\n",
      " [0.74 0.74 0.74 0.74 0.74 0.74 0.74 0.74 0.74 0.74 0.74 0.74 0.74 0.74 0.74]\n",
      " [1.32 1.32 1.32 1.32 1.32 1.32 1.32 1.32 1.32 1.32 1.32 1.32 1.32 1.32 1.32]\n",
      " [0.32 0.32 0.32 0.32 0.32 0.32 0.32 0.32 0.32 0.32 0.32 0.32 0.32 0.32 0.32]]\n"
     ]
    }
   ],
   "source": [
    "np.set_printoptions(precision=2,suppress=True)\n",
    "print(IDF)"
   ]
  },
  {
   "cell_type": "code",
   "execution_count": 14,
   "metadata": {},
   "outputs": [],
   "source": [
    "# Finally compute the TFxIDF values for each document-term entry\n",
    "TD_tfidf = TD * IDF"
   ]
  },
  {
   "cell_type": "code",
   "execution_count": 15,
   "metadata": {},
   "outputs": [
    {
     "data": {
      "text/html": [
       "<div>\n",
       "<style scoped>\n",
       "    .dataframe tbody tr th:only-of-type {\n",
       "        vertical-align: middle;\n",
       "    }\n",
       "\n",
       "    .dataframe tbody tr th {\n",
       "        vertical-align: top;\n",
       "    }\n",
       "\n",
       "    .dataframe thead th {\n",
       "        text-align: right;\n",
       "    }\n",
       "</style>\n",
       "<table border=\"1\" class=\"dataframe\">\n",
       "  <thead>\n",
       "    <tr style=\"text-align: right;\">\n",
       "      <th></th>\n",
       "      <th>0</th>\n",
       "      <th>1</th>\n",
       "      <th>2</th>\n",
       "      <th>3</th>\n",
       "      <th>4</th>\n",
       "      <th>5</th>\n",
       "      <th>6</th>\n",
       "      <th>7</th>\n",
       "      <th>8</th>\n",
       "      <th>9</th>\n",
       "      <th>10</th>\n",
       "      <th>11</th>\n",
       "      <th>12</th>\n",
       "      <th>13</th>\n",
       "      <th>14</th>\n",
       "    </tr>\n",
       "  </thead>\n",
       "  <tbody>\n",
       "    <tr>\n",
       "      <td>0</td>\n",
       "      <td>14.04</td>\n",
       "      <td>18.72</td>\n",
       "      <td>7.02</td>\n",
       "      <td>3.51</td>\n",
       "      <td>25.15</td>\n",
       "      <td>1.17</td>\n",
       "      <td>0.00</td>\n",
       "      <td>1.75</td>\n",
       "      <td>0.58</td>\n",
       "      <td>3.51</td>\n",
       "      <td>2.34</td>\n",
       "      <td>0.00</td>\n",
       "      <td>0.00</td>\n",
       "      <td>0.00</td>\n",
       "      <td>0.00</td>\n",
       "    </tr>\n",
       "    <tr>\n",
       "      <td>1</td>\n",
       "      <td>4.03</td>\n",
       "      <td>2.24</td>\n",
       "      <td>2.24</td>\n",
       "      <td>0.89</td>\n",
       "      <td>8.95</td>\n",
       "      <td>0.00</td>\n",
       "      <td>0.45</td>\n",
       "      <td>0.00</td>\n",
       "      <td>0.00</td>\n",
       "      <td>0.00</td>\n",
       "      <td>12.08</td>\n",
       "      <td>6.26</td>\n",
       "      <td>1.34</td>\n",
       "      <td>0.89</td>\n",
       "      <td>4.92</td>\n",
       "    </tr>\n",
       "    <tr>\n",
       "      <td>2</td>\n",
       "      <td>0.00</td>\n",
       "      <td>2.72</td>\n",
       "      <td>0.00</td>\n",
       "      <td>0.00</td>\n",
       "      <td>2.72</td>\n",
       "      <td>6.35</td>\n",
       "      <td>10.88</td>\n",
       "      <td>3.63</td>\n",
       "      <td>24.49</td>\n",
       "      <td>3.63</td>\n",
       "      <td>0.00</td>\n",
       "      <td>0.91</td>\n",
       "      <td>0.00</td>\n",
       "      <td>0.00</td>\n",
       "      <td>0.00</td>\n",
       "    </tr>\n",
       "    <tr>\n",
       "      <td>3</td>\n",
       "      <td>1.75</td>\n",
       "      <td>0.00</td>\n",
       "      <td>0.00</td>\n",
       "      <td>0.00</td>\n",
       "      <td>0.00</td>\n",
       "      <td>9.36</td>\n",
       "      <td>0.00</td>\n",
       "      <td>1.17</td>\n",
       "      <td>14.62</td>\n",
       "      <td>13.45</td>\n",
       "      <td>4.09</td>\n",
       "      <td>7.02</td>\n",
       "      <td>12.28</td>\n",
       "      <td>1.75</td>\n",
       "      <td>1.17</td>\n",
       "    </tr>\n",
       "    <tr>\n",
       "      <td>4</td>\n",
       "      <td>0.74</td>\n",
       "      <td>0.00</td>\n",
       "      <td>0.00</td>\n",
       "      <td>0.00</td>\n",
       "      <td>0.00</td>\n",
       "      <td>24.32</td>\n",
       "      <td>1.47</td>\n",
       "      <td>0.00</td>\n",
       "      <td>5.16</td>\n",
       "      <td>8.84</td>\n",
       "      <td>10.32</td>\n",
       "      <td>3.68</td>\n",
       "      <td>8.84</td>\n",
       "      <td>2.95</td>\n",
       "      <td>0.00</td>\n",
       "    </tr>\n",
       "    <tr>\n",
       "      <td>5</td>\n",
       "      <td>10.88</td>\n",
       "      <td>1.81</td>\n",
       "      <td>0.00</td>\n",
       "      <td>0.00</td>\n",
       "      <td>24.49</td>\n",
       "      <td>0.00</td>\n",
       "      <td>0.00</td>\n",
       "      <td>0.00</td>\n",
       "      <td>0.00</td>\n",
       "      <td>19.95</td>\n",
       "      <td>8.16</td>\n",
       "      <td>3.63</td>\n",
       "      <td>0.00</td>\n",
       "      <td>4.53</td>\n",
       "      <td>2.72</td>\n",
       "    </tr>\n",
       "    <tr>\n",
       "      <td>6</td>\n",
       "      <td>0.00</td>\n",
       "      <td>0.00</td>\n",
       "      <td>0.00</td>\n",
       "      <td>0.00</td>\n",
       "      <td>0.00</td>\n",
       "      <td>28.53</td>\n",
       "      <td>50.72</td>\n",
       "      <td>34.87</td>\n",
       "      <td>53.89</td>\n",
       "      <td>26.94</td>\n",
       "      <td>0.00</td>\n",
       "      <td>0.00</td>\n",
       "      <td>0.00</td>\n",
       "      <td>0.00</td>\n",
       "      <td>0.00</td>\n",
       "    </tr>\n",
       "    <tr>\n",
       "      <td>7</td>\n",
       "      <td>0.74</td>\n",
       "      <td>0.00</td>\n",
       "      <td>0.00</td>\n",
       "      <td>0.00</td>\n",
       "      <td>1.47</td>\n",
       "      <td>0.00</td>\n",
       "      <td>0.00</td>\n",
       "      <td>0.00</td>\n",
       "      <td>2.21</td>\n",
       "      <td>6.63</td>\n",
       "      <td>19.90</td>\n",
       "      <td>5.16</td>\n",
       "      <td>3.68</td>\n",
       "      <td>2.95</td>\n",
       "      <td>2.95</td>\n",
       "    </tr>\n",
       "    <tr>\n",
       "      <td>8</td>\n",
       "      <td>27.76</td>\n",
       "      <td>13.22</td>\n",
       "      <td>21.15</td>\n",
       "      <td>9.25</td>\n",
       "      <td>40.98</td>\n",
       "      <td>0.00</td>\n",
       "      <td>0.00</td>\n",
       "      <td>0.00</td>\n",
       "      <td>0.00</td>\n",
       "      <td>0.00</td>\n",
       "      <td>0.00</td>\n",
       "      <td>0.00</td>\n",
       "      <td>0.00</td>\n",
       "      <td>1.32</td>\n",
       "      <td>0.00</td>\n",
       "    </tr>\n",
       "    <tr>\n",
       "      <td>9</td>\n",
       "      <td>0.64</td>\n",
       "      <td>0.00</td>\n",
       "      <td>0.00</td>\n",
       "      <td>0.64</td>\n",
       "      <td>0.00</td>\n",
       "      <td>8.69</td>\n",
       "      <td>1.29</td>\n",
       "      <td>0.64</td>\n",
       "      <td>3.54</td>\n",
       "      <td>2.58</td>\n",
       "      <td>10.62</td>\n",
       "      <td>5.15</td>\n",
       "      <td>4.51</td>\n",
       "      <td>2.25</td>\n",
       "      <td>0.97</td>\n",
       "    </tr>\n",
       "  </tbody>\n",
       "</table>\n",
       "</div>"
      ],
      "text/plain": [
       "       0      1      2     3      4      5      6      7      8      9     10  \\\n",
       "0  14.04  18.72   7.02  3.51  25.15   1.17   0.00   1.75   0.58   3.51   2.34   \n",
       "1   4.03   2.24   2.24  0.89   8.95   0.00   0.45   0.00   0.00   0.00  12.08   \n",
       "2   0.00   2.72   0.00  0.00   2.72   6.35  10.88   3.63  24.49   3.63   0.00   \n",
       "3   1.75   0.00   0.00  0.00   0.00   9.36   0.00   1.17  14.62  13.45   4.09   \n",
       "4   0.74   0.00   0.00  0.00   0.00  24.32   1.47   0.00   5.16   8.84  10.32   \n",
       "5  10.88   1.81   0.00  0.00  24.49   0.00   0.00   0.00   0.00  19.95   8.16   \n",
       "6   0.00   0.00   0.00  0.00   0.00  28.53  50.72  34.87  53.89  26.94   0.00   \n",
       "7   0.74   0.00   0.00  0.00   1.47   0.00   0.00   0.00   2.21   6.63  19.90   \n",
       "8  27.76  13.22  21.15  9.25  40.98   0.00   0.00   0.00   0.00   0.00   0.00   \n",
       "9   0.64   0.00   0.00  0.64   0.00   8.69   1.29   0.64   3.54   2.58  10.62   \n",
       "\n",
       "     11     12    13    14  \n",
       "0  0.00   0.00  0.00  0.00  \n",
       "1  6.26   1.34  0.89  4.92  \n",
       "2  0.91   0.00  0.00  0.00  \n",
       "3  7.02  12.28  1.75  1.17  \n",
       "4  3.68   8.84  2.95  0.00  \n",
       "5  3.63   0.00  4.53  2.72  \n",
       "6  0.00   0.00  0.00  0.00  \n",
       "7  5.16   3.68  2.95  2.95  \n",
       "8  0.00   0.00  1.32  0.00  \n",
       "9  5.15   4.51  2.25  0.97  "
      ]
     },
     "execution_count": 15,
     "metadata": {},
     "output_type": "execute_result"
    }
   ],
   "source": [
    "pd.set_option(\"display.precision\", 2)\n",
    "\n",
    "TD_tfidf"
   ]
  },
  {
   "cell_type": "markdown",
   "metadata": {},
   "source": [
    "#### Now we are ready for clustering. We'll use the kMeans module of the MLA book from Ch. 10."
   ]
  },
  {
   "cell_type": "code",
   "execution_count": 16,
   "metadata": {},
   "outputs": [],
   "source": [
    "import kMeans"
   ]
  },
  {
   "cell_type": "code",
   "execution_count": 17,
   "metadata": {},
   "outputs": [],
   "source": [
    "# First transpose to get the doc by term matrix and then call kMeans to cluster the docs\n",
    "\n",
    "DT_tfidf = TD_tfidf.T\n",
    "DT_tfidf = np.array(DT_tfidf)\n",
    "\n",
    "centroids_tfidf, clusters_tfidf = kMeans.kMeans(DT_tfidf, 3, kMeans.distCosine, kMeans.randCent)"
   ]
  },
  {
   "cell_type": "markdown",
   "metadata": {},
   "source": [
    "#### Let's take a look at the cluster centroids"
   ]
  },
  {
   "cell_type": "code",
   "execution_count": 18,
   "metadata": {},
   "outputs": [
    {
     "data": {
      "text/html": [
       "<div>\n",
       "<style scoped>\n",
       "    .dataframe tbody tr th:only-of-type {\n",
       "        vertical-align: middle;\n",
       "    }\n",
       "\n",
       "    .dataframe tbody tr th {\n",
       "        vertical-align: top;\n",
       "    }\n",
       "\n",
       "    .dataframe thead th {\n",
       "        text-align: right;\n",
       "    }\n",
       "</style>\n",
       "<table border=\"1\" class=\"dataframe\">\n",
       "  <thead>\n",
       "    <tr style=\"text-align: right;\">\n",
       "      <th></th>\n",
       "      <th>database</th>\n",
       "      <th>index</th>\n",
       "      <th>likelihood</th>\n",
       "      <th>linear</th>\n",
       "      <th>matrix</th>\n",
       "      <th>query</th>\n",
       "      <th>regression</th>\n",
       "      <th>retrieval</th>\n",
       "      <th>sql</th>\n",
       "      <th>vector</th>\n",
       "    </tr>\n",
       "  </thead>\n",
       "  <tbody>\n",
       "    <tr>\n",
       "      <td>0</td>\n",
       "      <td>1.00</td>\n",
       "      <td>3.64</td>\n",
       "      <td>1.55</td>\n",
       "      <td>7.02</td>\n",
       "      <td>8.42</td>\n",
       "      <td>5.57</td>\n",
       "      <td>7.92</td>\n",
       "      <td>5.90</td>\n",
       "      <td>0.19</td>\n",
       "      <td>4.97</td>\n",
       "    </tr>\n",
       "    <tr>\n",
       "      <td>1</td>\n",
       "      <td>13.69</td>\n",
       "      <td>3.67</td>\n",
       "      <td>1.09</td>\n",
       "      <td>0.35</td>\n",
       "      <td>0.15</td>\n",
       "      <td>7.44</td>\n",
       "      <td>0.00</td>\n",
       "      <td>0.44</td>\n",
       "      <td>22.47</td>\n",
       "      <td>0.26</td>\n",
       "    </tr>\n",
       "    <tr>\n",
       "      <td>2</td>\n",
       "      <td>0.78</td>\n",
       "      <td>0.15</td>\n",
       "      <td>13.00</td>\n",
       "      <td>5.26</td>\n",
       "      <td>2.21</td>\n",
       "      <td>0.00</td>\n",
       "      <td>46.49</td>\n",
       "      <td>0.74</td>\n",
       "      <td>0.00</td>\n",
       "      <td>1.82</td>\n",
       "    </tr>\n",
       "  </tbody>\n",
       "</table>\n",
       "</div>"
      ],
      "text/plain": [
       "0  database  index  likelihood  linear  matrix  query  regression  retrieval  \\\n",
       "0      1.00   3.64        1.55    7.02    8.42   5.57        7.92       5.90   \n",
       "1     13.69   3.67        1.09    0.35    0.15   7.44        0.00       0.44   \n",
       "2      0.78   0.15       13.00    5.26    2.21   0.00       46.49       0.74   \n",
       "\n",
       "0   sql  vector  \n",
       "0  0.19    4.97  \n",
       "1 22.47    0.26  \n",
       "2  0.00    1.82  "
      ]
     },
     "execution_count": 18,
     "metadata": {},
     "output_type": "execute_result"
    }
   ],
   "source": [
    "pd.options.display.float_format='{:,.2f}'.format\n",
    "\n",
    "centroids = pd.DataFrame(centroids_tfidf, columns=terms)\n",
    "centroids"
   ]
  },
  {
   "cell_type": "markdown",
   "metadata": {},
   "source": [
    "#### The cluster centroids reveal some general patterns in the data as well as unique characterisitcs of each cluster. For example, it's clear that Cluster 0 is dominated by documents related to SQL databases while Cluster 1 contains documents primarily related to linear regresssion, etc."
   ]
  },
  {
   "cell_type": "code",
   "execution_count": 19,
   "metadata": {},
   "outputs": [
    {
     "name": "stdout",
     "output_type": "stream",
     "text": [
      "[[1.   0.  ]\n",
      " [1.   0.01]\n",
      " [1.   0.  ]\n",
      " [1.   0.  ]\n",
      " [1.   0.  ]\n",
      " [0.   0.04]\n",
      " [2.   0.  ]\n",
      " [2.   0.  ]\n",
      " [2.   0.  ]\n",
      " [0.   0.02]\n",
      " [0.   0.06]\n",
      " [0.   0.03]\n",
      " [0.   0.06]\n",
      " [0.   0.04]\n",
      " [0.   0.18]]\n"
     ]
    }
   ],
   "source": [
    "# Let's look at cluster assigmens for each of the instances in the data.\n",
    "print(clusters_tfidf)"
   ]
  },
  {
   "cell_type": "code",
   "execution_count": 20,
   "metadata": {},
   "outputs": [
    {
     "data": {
      "text/html": [
       "<div>\n",
       "<style scoped>\n",
       "    .dataframe tbody tr th:only-of-type {\n",
       "        vertical-align: middle;\n",
       "    }\n",
       "\n",
       "    .dataframe tbody tr th {\n",
       "        vertical-align: top;\n",
       "    }\n",
       "\n",
       "    .dataframe thead th {\n",
       "        text-align: right;\n",
       "    }\n",
       "</style>\n",
       "<table border=\"1\" class=\"dataframe\">\n",
       "  <thead>\n",
       "    <tr style=\"text-align: right;\">\n",
       "      <th></th>\n",
       "      <th>Cluster</th>\n",
       "      <th>MinDistance**2</th>\n",
       "    </tr>\n",
       "  </thead>\n",
       "  <tbody>\n",
       "    <tr>\n",
       "      <td>0</td>\n",
       "      <td>1.00</td>\n",
       "      <td>0.00</td>\n",
       "    </tr>\n",
       "    <tr>\n",
       "      <td>1</td>\n",
       "      <td>1.00</td>\n",
       "      <td>0.01</td>\n",
       "    </tr>\n",
       "    <tr>\n",
       "      <td>2</td>\n",
       "      <td>1.00</td>\n",
       "      <td>0.00</td>\n",
       "    </tr>\n",
       "    <tr>\n",
       "      <td>3</td>\n",
       "      <td>1.00</td>\n",
       "      <td>0.00</td>\n",
       "    </tr>\n",
       "    <tr>\n",
       "      <td>4</td>\n",
       "      <td>1.00</td>\n",
       "      <td>0.00</td>\n",
       "    </tr>\n",
       "    <tr>\n",
       "      <td>5</td>\n",
       "      <td>0.00</td>\n",
       "      <td>0.04</td>\n",
       "    </tr>\n",
       "    <tr>\n",
       "      <td>6</td>\n",
       "      <td>2.00</td>\n",
       "      <td>0.00</td>\n",
       "    </tr>\n",
       "    <tr>\n",
       "      <td>7</td>\n",
       "      <td>2.00</td>\n",
       "      <td>0.00</td>\n",
       "    </tr>\n",
       "    <tr>\n",
       "      <td>8</td>\n",
       "      <td>2.00</td>\n",
       "      <td>0.00</td>\n",
       "    </tr>\n",
       "    <tr>\n",
       "      <td>9</td>\n",
       "      <td>0.00</td>\n",
       "      <td>0.02</td>\n",
       "    </tr>\n",
       "    <tr>\n",
       "      <td>10</td>\n",
       "      <td>0.00</td>\n",
       "      <td>0.06</td>\n",
       "    </tr>\n",
       "    <tr>\n",
       "      <td>11</td>\n",
       "      <td>0.00</td>\n",
       "      <td>0.03</td>\n",
       "    </tr>\n",
       "    <tr>\n",
       "      <td>12</td>\n",
       "      <td>0.00</td>\n",
       "      <td>0.06</td>\n",
       "    </tr>\n",
       "    <tr>\n",
       "      <td>13</td>\n",
       "      <td>0.00</td>\n",
       "      <td>0.04</td>\n",
       "    </tr>\n",
       "    <tr>\n",
       "      <td>14</td>\n",
       "      <td>0.00</td>\n",
       "      <td>0.18</td>\n",
       "    </tr>\n",
       "  </tbody>\n",
       "</table>\n",
       "</div>"
      ],
      "text/plain": [
       "    Cluster  MinDistance**2\n",
       "0      1.00            0.00\n",
       "1      1.00            0.01\n",
       "2      1.00            0.00\n",
       "3      1.00            0.00\n",
       "4      1.00            0.00\n",
       "5      0.00            0.04\n",
       "6      2.00            0.00\n",
       "7      2.00            0.00\n",
       "8      2.00            0.00\n",
       "9      0.00            0.02\n",
       "10     0.00            0.06\n",
       "11     0.00            0.03\n",
       "12     0.00            0.06\n",
       "13     0.00            0.04\n",
       "14     0.00            0.18"
      ]
     },
     "execution_count": 20,
     "metadata": {},
     "output_type": "execute_result"
    }
   ],
   "source": [
    "doc_clusters = pd.DataFrame(clusters_tfidf, columns=[\"Cluster\", \"MinDistance**2\"])\n",
    "doc_clusters"
   ]
  },
  {
   "cell_type": "code",
   "execution_count": 21,
   "metadata": {},
   "outputs": [
    {
     "name": "stdout",
     "output_type": "stream",
     "text": [
      "[1 1 1 1 1 0 2 2 2 0 0 0 0 0 0]\n"
     ]
    }
   ],
   "source": [
    "cluster_array = clusters_tfidf[:,0].astype(int)\n",
    "print(cluster_array)"
   ]
  },
  {
   "cell_type": "code",
   "execution_count": 22,
   "metadata": {},
   "outputs": [],
   "source": [
    "def cluster_sizes(data, cluster_array):\n",
    "    #cluster_array is an array of cluster labels for each instance in the data\n",
    "    \n",
    "    size = {}\n",
    "    cluster_labels = np.unique(cluster_array)\n",
    "    n_clusters = cluster_labels.shape[0]\n",
    "\n",
    "    for c in cluster_labels:\n",
    "        size[c] = len(data[cluster_array == c])\n",
    "    return size"
   ]
  },
  {
   "cell_type": "code",
   "execution_count": 23,
   "metadata": {},
   "outputs": [
    {
     "name": "stdout",
     "output_type": "stream",
     "text": [
      "Size of Cluster 0 =  7\n",
      "Size of Cluster 1 =  5\n",
      "Size of Cluster 2 =  3\n"
     ]
    }
   ],
   "source": [
    "c_size = cluster_sizes(DT_tfidf, cluster_array)\n",
    "\n",
    "for c in c_size.keys():\n",
    "    print(\"Size of Cluster\", c, \"= \", c_size[c])"
   ]
  },
  {
   "cell_type": "markdown",
   "metadata": {},
   "source": [
    "#### Next, let's use principal component analysis to reduce the dimensionality of the data:"
   ]
  },
  {
   "cell_type": "code",
   "execution_count": 24,
   "metadata": {},
   "outputs": [],
   "source": [
    "from sklearn import decomposition"
   ]
  },
  {
   "cell_type": "markdown",
   "metadata": {},
   "source": [
    "#### First we find all the principal components (in this case there are 10 variables in the original data, so there will be 10 PCs). This allows us to determine which subset of PCs will be sufficient to create a reduced feature space."
   ]
  },
  {
   "cell_type": "code",
   "execution_count": 25,
   "metadata": {},
   "outputs": [],
   "source": [
    "pca = decomposition.PCA()\n",
    "DTtrans = pca.fit(DT).transform(DT)"
   ]
  },
  {
   "cell_type": "code",
   "execution_count": 26,
   "metadata": {},
   "outputs": [],
   "source": [
    "np.set_printoptions(precision=2,suppress=True, edgeitems=5, linewidth=120)"
   ]
  },
  {
   "cell_type": "code",
   "execution_count": 27,
   "metadata": {},
   "outputs": [
    {
     "name": "stdout",
     "output_type": "stream",
     "text": [
      "[[ 25.45  -1.8    4.02   3.12   0.24   0.03  -3.15  -1.97  -0.83  -0.77]\n",
      " [ 23.78  -7.29  -0.53   4.77  -6.32   5.03  10.7    0.54   0.39   0.13]\n",
      " [ 15.03  -5.44 -10.09   3.46  -2.87   1.96  -4.65  -3.52  -0.43   1.42]\n",
      " [  6.75  -4.39 -14.84   3.08  -0.44  -0.13  -1.08  -1.1    1.72  -0.63]\n",
      " [ 46.7    0.01  21.78  -3.11   0.29  -1.61  -2.95   2.25   0.06  -0.07]\n",
      " [-27.41   7.93  12.27  15.16 -13.47  -5.75  -1.55   1.7    0.37   0.27]\n",
      " [-15.67 -21.74  -1.33 -11.4   -5.81  -5.58  -0.61   0.2   -0.47  -0.03]\n",
      " [ -8.28 -16.54  -6.94  -5.39  -1.47  -4.77   2.29  -0.76  -3.19  -0.68]\n",
      " [-29.51 -18.64  16.68  -4.82   1.69  11.97  -1.7   -0.19   1.76   0.06]\n",
      " [-11.41   0.44  15.03   3.03  17.19  -7.41   3.29  -1.25   0.1    0.54]\n",
      " [ -6.98  37.69   4.5  -14.83  -5.5    0.36   1.92  -2.62   0.36   0.31]\n",
      " [ -5.97  13.91  -6.64  -2.12   3.32   4.19  -1.79   3.47  -1.93  -1.89]\n",
      " [-12.36  10.4   -4.93  11.5    5.51   5.49   0.09  -0.93  -2.48   0.25]\n",
      " [ -1.67   2.69 -13.18   2.04   3.72  -3.59  -0.03  -0.08   4.21  -1.29]\n",
      " [  1.53   2.79 -15.8   -4.49   3.94  -0.19  -0.78   4.26   0.37   2.37]]\n"
     ]
    }
   ],
   "source": [
    "# Here is teh transformed feature space based on the PCs\n",
    "print(DTtrans)"
   ]
  },
  {
   "cell_type": "markdown",
   "metadata": {},
   "source": [
    "#### Let's see the ratio of variance in the data explained by each PC."
   ]
  },
  {
   "cell_type": "code",
   "execution_count": 28,
   "metadata": {},
   "outputs": [
    {
     "name": "stdout",
     "output_type": "stream",
     "text": [
      "[0.45 0.23 0.15 0.07 0.05 0.03 0.01 0.   0.   0.  ]\n"
     ]
    }
   ],
   "source": [
    "print(pca.explained_variance_ratio_)"
   ]
  },
  {
   "cell_type": "code",
   "execution_count": 29,
   "metadata": {},
   "outputs": [],
   "source": [
    "varPercentage = pca.explained_variance_ratio_*100"
   ]
  },
  {
   "cell_type": "code",
   "execution_count": 30,
   "metadata": {},
   "outputs": [
    {
     "data": {
      "image/png": "[encoded data removed]",
      "text/plain": [
       "<Figure size 432x288 with 1 Axes>"
      ]
     },
     "metadata": {
      "needs_background": "light"
     },
     "output_type": "display_data"
    }
   ],
   "source": [
    "import matplotlib\n",
    "import matplotlib.pyplot as plt\n",
    "\n",
    "fig = plt.figure()\n",
    "ax = fig.add_subplot(111)\n",
    "ax.plot(range(10), varPercentage[:], marker='^')\n",
    "plt.xlabel('Principal Component Number')\n",
    "plt.ylabel('Percentage of Variance')\n",
    "plt.show()"
   ]
  },
  {
   "cell_type": "markdown",
   "metadata": {},
   "source": [
    "#### Note that the first 5 PCs cumulatively explain about 95% of variance in the data. So, we will use only the first 5 PCs as the dimensions for our reduced feature space. In other words, we have reduced the number of dimensions in the data from 10 to 5. Of course, the new dimensions are the PCs not the original variables. "
   ]
  },
  {
   "cell_type": "code",
   "execution_count": 31,
   "metadata": {},
   "outputs": [],
   "source": [
    "DTtrans_reduced = DTtrans[:,:5]\n",
    "\n",
    "# Alternatively, we can perform PCA decompoisition again with a specified number of PCs\n",
    "\n",
    "# pca = decomposition.PCA(n_components=5)\n",
    "# DTtrans_reduced = pca.fit(DT).transform(DT)"
   ]
  },
  {
   "cell_type": "code",
   "execution_count": 32,
   "metadata": {},
   "outputs": [
    {
     "name": "stdout",
     "output_type": "stream",
     "text": [
      "[[ 25.45  -1.8    4.02   3.12   0.24]\n",
      " [ 23.78  -7.29  -0.53   4.77  -6.32]\n",
      " [ 15.03  -5.44 -10.09   3.46  -2.87]\n",
      " [  6.75  -4.39 -14.84   3.08  -0.44]\n",
      " [ 46.7    0.01  21.78  -3.11   0.29]\n",
      " [-27.41   7.93  12.27  15.16 -13.47]\n",
      " [-15.67 -21.74  -1.33 -11.4   -5.81]\n",
      " [ -8.28 -16.54  -6.94  -5.39  -1.47]\n",
      " [-29.51 -18.64  16.68  -4.82   1.69]\n",
      " [-11.41   0.44  15.03   3.03  17.19]\n",
      " [ -6.98  37.69   4.5  -14.83  -5.5 ]\n",
      " [ -5.97  13.91  -6.64  -2.12   3.32]\n",
      " [-12.36  10.4   -4.93  11.5    5.51]\n",
      " [ -1.67   2.69 -13.18   2.04   3.72]\n",
      " [  1.53   2.79 -15.8   -4.49   3.94]]\n"
     ]
    }
   ],
   "source": [
    "print(DTtrans_reduced)"
   ]
  },
  {
   "cell_type": "markdown",
   "metadata": {},
   "source": [
    "#### Now, we can redo the clustering, but this time in the lower dimensional space:"
   ]
  },
  {
   "cell_type": "code",
   "execution_count": 33,
   "metadata": {},
   "outputs": [],
   "source": [
    "centroids_pca, clusters_pca = kMeans.kMeans(DTtrans_reduced, 3, kMeans.distCosine, kMeans.randCent)"
   ]
  },
  {
   "cell_type": "code",
   "execution_count": 34,
   "metadata": {},
   "outputs": [
    {
     "name": "stdout",
     "output_type": "stream",
     "text": [
      "[[0.   0.  ]\n",
      " [0.   0.  ]\n",
      " [0.   0.03]\n",
      " [0.   0.31]\n",
      " [0.   0.01]\n",
      " [2.   0.14]\n",
      " [2.   0.06]\n",
      " [2.   0.17]\n",
      " [2.   0.  ]\n",
      " [2.   0.21]\n",
      " [1.   0.05]\n",
      " [1.   0.  ]\n",
      " [1.   0.11]\n",
      " [1.   0.14]\n",
      " [1.   0.19]]\n"
     ]
    }
   ],
   "source": [
    "print(clusters_pca)"
   ]
  },
  {
   "cell_type": "markdown",
   "metadata": {},
   "source": [
    "#### Next, let's actually derive the principal components manaually using linear algebra rather than relying on the PCA package from sklearn:"
   ]
  },
  {
   "cell_type": "markdown",
   "metadata": {},
   "source": [
    "#### First step is to obtain the covariance matrix:"
   ]
  },
  {
   "cell_type": "code",
   "execution_count": 35,
   "metadata": {},
   "outputs": [
    {
     "name": "stdout",
     "output_type": "stream",
     "text": [
      "[[179.7   38.44 -17.06 -50.7  -40.93  66.87 -60.9  -19.62 116.32 -59.49]\n",
      " [ 38.44  67.26 -21.54 -19.81  -6.5   31.83 -55.7   38.13  27.67  27.04]\n",
      " [-17.06 -21.54  51.78  31.1    9.36 -11.61  77.41  -8.72 -16.2    4.67]\n",
      " [-50.7  -19.81  31.1   85.97  51.43   2.54  45.59  15.13 -41.97  47.47]\n",
      " [-40.93  -6.5    9.36  51.43  80.57  -4.43  25.86  17.64 -35.07  74.14]\n",
      " [ 66.87  31.83 -11.61   2.54  -4.43  72.97 -22.49  15.7   45.17  -8.39]\n",
      " [-60.9  -55.7   77.41  45.59  25.86 -22.49 162.03 -18.1  -50.37   7.87]\n",
      " [-19.62  38.13  -8.72  15.13  17.64  15.7  -18.1   48.12 -19.18  49.06]\n",
      " [116.32  27.67 -16.2  -41.97 -35.07  45.17 -50.37 -19.18  93.92 -48.33]\n",
      " [-59.49  27.04   4.67  47.47  74.14  -8.39   7.87  49.06 -48.33 102.26]]\n"
     ]
    }
   ],
   "source": [
    "meanVals = np.mean(DT, axis=0)\n",
    "meanRemoved = DT - meanVals #remove mean\n",
    "covMat = np.cov(meanRemoved, rowvar=0)\n",
    "\n",
    "np.set_printoptions(precision=2,suppress=True,linewidth=100)\n",
    "print(covMat)"
   ]
  },
  {
   "cell_type": "code",
   "execution_count": 36,
   "metadata": {},
   "outputs": [],
   "source": [
    "import numpy.linalg as la\n",
    "eigVals,eigVects = la.eig(np.mat(covMat))"
   ]
  },
  {
   "cell_type": "code",
   "execution_count": 37,
   "metadata": {},
   "outputs": [
    {
     "name": "stdout",
     "output_type": "stream",
     "text": [
      "[426.77 214.24 144.96  61.87  47.51  26.97  13.24   1.06   3.25   4.71]\n"
     ]
    }
   ],
   "source": [
    "print(eigVals)"
   ]
  },
  {
   "cell_type": "code",
   "execution_count": 38,
   "metadata": {},
   "outputs": [
    {
     "name": "stdout",
     "output_type": "stream",
     "text": [
      "[[-0.57 -0.09  0.46 -0.14 -0.26 -0.15  0.58  0.05 -0.1  -0.02]\n",
      " [-0.18  0.39  0.1   0.51 -0.12 -0.19 -0.22 -0.3  -0.35 -0.49]\n",
      " [ 0.18 -0.26  0.3   0.19 -0.11 -0.48 -0.11 -0.06  0.69 -0.2 ]\n",
      " [ 0.29  0.1   0.36 -0.35  0.53 -0.49 -0.02 -0.03 -0.36  0.03]\n",
      " [ 0.26  0.27  0.31 -0.47 -0.33  0.34 -0.05 -0.53  0.14 -0.11]\n",
      " [-0.21  0.13  0.43  0.13  0.56  0.51 -0.09  0.2   0.27 -0.21]\n",
      " [ 0.4  -0.51  0.42  0.37 -0.17  0.28  0.01 -0.01 -0.38  0.12]\n",
      " [ 0.06  0.38  0.08  0.41  0.14 -0.05  0.28 -0.33  0.17  0.66]\n",
      " [-0.42 -0.08  0.23 -0.11 -0.14 -0.07 -0.72 -0.01 -0.05  0.46]\n",
      " [ 0.28  0.51  0.21  0.03 -0.37 -0.04 -0.04  0.69  0.01  0.07]]\n"
     ]
    }
   ],
   "source": [
    "print(eigVects)"
   ]
  },
  {
   "cell_type": "code",
   "execution_count": 39,
   "metadata": {},
   "outputs": [
    {
     "name": "stdout",
     "output_type": "stream",
     "text": [
      "[426.77 214.24 144.96  61.87  47.51  26.97  13.24   4.71   3.25   1.06]\n",
      "[45.18 22.68 15.35  6.55  5.03  2.86  1.4   0.5   0.34  0.11]\n"
     ]
    }
   ],
   "source": [
    "eigValInd = np.argsort(eigVals)  #sort, sort goes smallest to largest\n",
    "eigValInd = eigValInd[::-1]   #reverse\n",
    "sortedEigVals = eigVals[eigValInd]\n",
    "print(sortedEigVals)\n",
    "total = sum(sortedEigVals)\n",
    "varPercentage = sortedEigVals/total*100\n",
    "print(varPercentage)"
   ]
  },
  {
   "cell_type": "code",
   "execution_count": 40,
   "metadata": {},
   "outputs": [
    {
     "name": "stdout",
     "output_type": "stream",
     "text": [
      "[[-25.45  -1.8    4.02  -3.12   0.24]\n",
      " [-23.78  -7.29  -0.53  -4.77  -6.32]\n",
      " [-15.03  -5.44 -10.09  -3.46  -2.87]\n",
      " [ -6.75  -4.39 -14.84  -3.08  -0.44]\n",
      " [-46.7    0.01  21.78   3.11   0.29]\n",
      " [ 27.41   7.93  12.27 -15.16 -13.47]\n",
      " [ 15.67 -21.74  -1.33  11.4   -5.81]\n",
      " [  8.28 -16.54  -6.94   5.39  -1.47]\n",
      " [ 29.51 -18.64  16.68   4.82   1.69]\n",
      " [ 11.41   0.44  15.03  -3.03  17.19]\n",
      " [  6.98  37.69   4.5   14.83  -5.5 ]\n",
      " [  5.97  13.91  -6.64   2.12   3.32]\n",
      " [ 12.36  10.4   -4.93 -11.5    5.51]\n",
      " [  1.67   2.69 -13.18  -2.04   3.72]\n",
      " [ -1.53   2.79 -15.8    4.49   3.94]]\n"
     ]
    }
   ],
   "source": [
    "topNfeat = 5\n",
    "topEigValInd = eigValInd[:topNfeat]  #cut off unwanted dimensions\n",
    "reducedEigVects = eigVects[:,topEigValInd]   #reorganize eig vects largest to smallest\n",
    "reducedDT = np.dot(meanRemoved, reducedEigVects)    #transform data into new dimensions\n",
    "print(reducedDT)"
   ]
  },
  {
   "cell_type": "markdown",
   "metadata": {},
   "source": [
    "#### Next, let's look at an application of Singular Value Decomposition. This time, we'll foucs on the term-document matrix in order to find themes based on combinations of terms."
   ]
  },
  {
   "cell_type": "code",
   "execution_count": 41,
   "metadata": {},
   "outputs": [],
   "source": [
    "u, s, vt = np.linalg.svd(TD, full_matrices=False)"
   ]
  },
  {
   "cell_type": "code",
   "execution_count": 42,
   "metadata": {},
   "outputs": [
    {
     "name": "stdout",
     "output_type": "stream",
     "text": [
      "[[-0.39  0.6  -0.22 -0.17  0.22 -0.1  -0.59  0.07 -0.07 -0.04]\n",
      " [-0.3   0.2   0.33  0.5   0.06 -0.17  0.21 -0.08 -0.57  0.31]\n",
      " [-0.2  -0.16 -0.33  0.16  0.04 -0.4   0.   -0.76  0.23  0.02]\n",
      " [-0.37 -0.27 -0.   -0.42 -0.49 -0.53  0.04  0.27 -0.16  0.05]\n",
      " [-0.32 -0.23  0.19 -0.49  0.31  0.38  0.03 -0.22  0.    0.52]\n",
      " [-0.29  0.23  0.02 -0.   -0.66  0.53  0.07 -0.31 -0.03 -0.22]\n",
      " [-0.36 -0.38 -0.62  0.35  0.08  0.3   0.02  0.34 -0.1   0.03]\n",
      " [-0.21 -0.05  0.34  0.38 -0.2  -0.02 -0.28  0.21  0.65  0.33]\n",
      " [-0.23  0.44 -0.15 -0.11  0.15 -0.09  0.72  0.18  0.38  0.02]\n",
      " [-0.42 -0.25  0.42  0.03  0.33  0.    0.02  0.01  0.07 -0.68]]\n"
     ]
    }
   ],
   "source": [
    "print(u)"
   ]
  },
  {
   "cell_type": "code",
   "execution_count": 43,
   "metadata": {},
   "outputs": [
    {
     "name": "stdout",
     "output_type": "stream",
     "text": [
      "[[-0.24 -0.18 -0.1  -0.06 -0.41 -0.39 -0.18 -0.12 -0.37 -0.35 -0.41 -0.21 -0.21 -0.09 -0.07]\n",
      " [ 0.34  0.32  0.2   0.08  0.63 -0.33 -0.2  -0.11 -0.36 -0.13 -0.06 -0.07 -0.15 -0.02  0.02]\n",
      " [-0.07 -0.14 -0.06 -0.02 -0.13  0.06 -0.4  -0.27 -0.43 -0.08  0.62  0.26  0.2   0.1   0.12]\n",
      " [-0.1  -0.11 -0.04 -0.02  0.03 -0.5   0.43  0.24  0.12 -0.21  0.49  0.1  -0.36 -0.02  0.21]\n",
      " [ 0.01  0.29  0.2   0.12 -0.1   0.52  0.2   0.09 -0.11 -0.69  0.11 -0.08 -0.1  -0.07 -0.08]\n",
      " [-0.03 -0.25 -0.17 -0.08  0.14  0.34  0.28  0.19 -0.56  0.35  0.05 -0.26 -0.36  0.11 -0.07]\n",
      " [ 0.25 -0.77  0.39  0.14  0.16  0.09  0.07 -0.09  0.05 -0.21 -0.18  0.16  0.05  0.05  0.11]\n",
      " [ 0.2   0.09  0.36  0.17 -0.33 -0.21  0.12  0.54 -0.34  0.17 -0.    0.06  0.41 -0.08 -0.04]\n",
      " [ 0.14 -0.07  0.3   0.16 -0.18 -0.13 -0.08 -0.21  0.2   0.11  0.34 -0.53 -0.11  0.21 -0.5 ]\n",
      " [-0.18  0.01  0.36 -0.22 -0.    0.07 -0.01 -0.15  0.01  0.13  0.1  -0.48  0.09 -0.43  0.56]]\n"
     ]
    }
   ],
   "source": [
    "print(vt)"
   ]
  },
  {
   "cell_type": "code",
   "execution_count": 44,
   "metadata": {},
   "outputs": [
    {
     "name": "stdout",
     "output_type": "stream",
     "text": [
      "[93.97 77.25 54.14 29.74 26.27 19.76 13.75  9.41  7.88  3.88]\n"
     ]
    }
   ],
   "source": [
    "print(s)"
   ]
  },
  {
   "cell_type": "code",
   "execution_count": 45,
   "metadata": {},
   "outputs": [
    {
     "name": "stdout",
     "output_type": "stream",
     "text": [
      "[[93.97  0.    0.    0.    0.    0.    0.    0.    0.    0.  ]\n",
      " [ 0.   77.25  0.    0.    0.    0.    0.    0.    0.    0.  ]\n",
      " [ 0.    0.   54.14  0.    0.    0.    0.    0.    0.    0.  ]\n",
      " [ 0.    0.    0.   29.74  0.    0.    0.    0.    0.    0.  ]\n",
      " [ 0.    0.    0.    0.   26.27  0.    0.    0.    0.    0.  ]\n",
      " [ 0.    0.    0.    0.    0.   19.76  0.    0.    0.    0.  ]\n",
      " [ 0.    0.    0.    0.    0.    0.   13.75  0.    0.    0.  ]\n",
      " [ 0.    0.    0.    0.    0.    0.    0.    9.41  0.    0.  ]\n",
      " [ 0.    0.    0.    0.    0.    0.    0.    0.    7.88  0.  ]\n",
      " [ 0.    0.    0.    0.    0.    0.    0.    0.    0.    3.88]]\n"
     ]
    }
   ],
   "source": [
    "print(np.diag(s))"
   ]
  },
  {
   "cell_type": "code",
   "execution_count": 46,
   "metadata": {},
   "outputs": [
    {
     "name": "stdout",
     "output_type": "stream",
     "text": [
      "[[24. 32. 12.  6. 43.  2.  0.  3.  1.  6.  4.  0.  0.  0.  0.]\n",
      " [ 9.  5.  5.  2. 20.  0.  1.  0. -0.  0. 27. 14.  3.  2. 11.]\n",
      " [ 0.  3.  0.  0.  3.  7. 12.  4. 27.  4. -0.  1. -0.  0. -0.]\n",
      " [ 3. -0. -0. -0.  0. 16.  0.  2. 25. 23.  7. 12. 21.  3.  2.]\n",
      " [ 1.  0.  0. -0.  0. 33.  2.  0.  7. 12. 14.  5. 12.  4.  0.]\n",
      " [12.  2.  0.  0. 27. -0. -0. -0.  0. 22.  9.  4.  0.  5.  3.]\n",
      " [ 0. -0.  0.  0. -0. 18. 32. 22. 34. 17.  0.  0.  0.  0.  0.]\n",
      " [ 1.  0.  0. -0.  2. -0.  0.  0.  3.  9. 27.  7.  5.  4.  4.]\n",
      " [21. 10. 16.  7. 31.  0.  0. -0. -0.  0.  0. -0.  0.  1. -0.]\n",
      " [ 2.  0.  0.  2.  0. 27.  4.  2. 11.  8. 33. 16. 14.  7.  3.]]\n"
     ]
    }
   ],
   "source": [
    "# If we use all the dimensions of U.Sigma.Vt, we can get back to original matrix.\n",
    "\n",
    "originalTD = np.dot(u, np.dot(np.diag(s), vt))\n",
    "print(originalTD)"
   ]
  },
  {
   "cell_type": "code",
   "execution_count": 47,
   "metadata": {},
   "outputs": [],
   "source": [
    "# But, the goal of SVD is to use a smaller number of dimensions each of which \n",
    "# represent a latent variable capturing some cobminations of features associated \n",
    "# with the data (e.g., general themes in the documents). \n",
    "\n",
    "numDimensions = 3\n",
    "u_ld = u[:, :numDimensions]\n",
    "sigma = np.diag(s)[:numDimensions, :numDimensions]\n",
    "vt_ld = vt[:numDimensions, :]\n",
    "lowRankTD = np.dot(u_ld, np.dot(sigma, vt_ld))"
   ]
  },
  {
   "cell_type": "code",
   "execution_count": 48,
   "metadata": {},
   "outputs": [
    {
     "name": "stdout",
     "output_type": "stream",
     "text": [
      "[[25.33 22.89 13.5   6.13 45.48 -1.98  1.99  2.79  1.9   7.87  4.6   1.34 -1.82  1.01  2.14]\n",
      " [10.71  7.37  4.79  2.6  18.7   6.82 -5.26 -3.14 -3.04  6.47 21.6   9.52  6.96  4.02  4.41]\n",
      " [ 1.46  2.05  0.6   0.29  2.07 10.24 12.93  8.54 19.25  9.57 -2.74 -0.    2.18  0.08 -0.94]\n",
      " [ 1.25 -0.19 -0.45  0.22  1.03 20.3  10.26  6.46 20.37 14.86 15.49  8.63 10.26  3.55  2.17]\n",
      " [ 0.3  -1.69 -1.06  0.02 -0.57 18.19  4.81  2.78 13.17 12.03 19.71 10.15 10.88  4.12  3.05]\n",
      " [12.74 10.59  6.33  3.07 22.51  4.64  0.76  1.09  3.03  7.25 10.81  4.81  3.12  2.17  2.49]\n",
      " [ 0.58  1.9  -0.08  0.01 -0.06 20.55 25.06 16.42 37.57 18.2  -5.23  0.13  4.68  0.16 -1.94]\n",
      " [ 2.26 -0.13  0.23  0.54  3.39  9.93 -3.09 -2.23  0.62  5.95 19.64  9.17  8.18  3.73  3.5 ]\n",
      " [17.34 15.78  9.34  4.21 31.25 -3.21  0.35  1.28 -0.65  4.05  1.88  0.19 -2.16  0.39  1.3 ]\n",
      " [ 1.34 -2.11 -1.07  0.26  0.94 23.19  1.78  0.66 11.78 14.65 31.61 15.6  15.57  6.33  5.21]]\n"
     ]
    }
   ],
   "source": [
    "# The U.Sigma.Vt in the lower dimensional space gives an approximation of the original materix\n",
    "\n",
    "np.set_printoptions(precision=2,suppress=True,linewidth=120)\n",
    "print(lowRankTD)"
   ]
  },
  {
   "cell_type": "markdown",
   "metadata": {},
   "source": [
    "#### The VT matrix can be viewed as the new representation of documents in the lower dimensional space. Instead of row being terms (in the term by document matrix), now each row represents a latent \"topic\" or \"theme\" and so we have a topic by document matrix. You can think of each document (columns) being represented in term of the degree to which they reflect one of the topics."
   ]
  },
  {
   "cell_type": "code",
   "execution_count": 49,
   "metadata": {},
   "outputs": [
    {
     "name": "stdout",
     "output_type": "stream",
     "text": [
      "[[-0.24 -0.18 -0.1  -0.06 -0.41 -0.39 -0.18 -0.12 -0.37 -0.35 -0.41 -0.21 -0.21 -0.09 -0.07]\n",
      " [ 0.34  0.32  0.2   0.08  0.63 -0.33 -0.2  -0.11 -0.36 -0.13 -0.06 -0.07 -0.15 -0.02  0.02]\n",
      " [-0.07 -0.14 -0.06 -0.02 -0.13  0.06 -0.4  -0.27 -0.43 -0.08  0.62  0.26  0.2   0.1   0.12]]\n"
     ]
    }
   ],
   "source": [
    "print(vt_ld)"
   ]
  },
  {
   "cell_type": "markdown",
   "metadata": {},
   "source": [
    "#### In information retrieval, a query is compared to documents using vector-space similarity between the query vector and document vectors. In the lower dim. space, this can be achieved by first mapping the query to lower dim. space, and then comparing it to docs in the lower dim. space."
   ]
  },
  {
   "cell_type": "code",
   "execution_count": 50,
   "metadata": {},
   "outputs": [
    {
     "name": "stdout",
     "output_type": "stream",
     "text": [
      "[-0.07 -0.07 -0.05]\n"
     ]
    }
   ],
   "source": [
    "queryVector = np.array([0,0,1,5,4,0,6,0,0,2])\n",
    "\n",
    "lowDimQuery = np.dot(la.inv(sigma), np.dot(u_ld.T, queryVector))\n",
    "print(lowDimQuery)\n"
   ]
  },
  {
   "cell_type": "code",
   "execution_count": 51,
   "metadata": {},
   "outputs": [
    {
     "name": "stdout",
     "output_type": "stream",
     "text": [
      "[[-0.57  0.81 -0.16]\n",
      " [-0.47  0.8  -0.37]\n",
      " [-0.45  0.85 -0.27]\n",
      " [-0.55  0.82 -0.15]\n",
      " [-0.54  0.83 -0.17]\n",
      " [-0.75 -0.64  0.12]\n",
      " [-0.37 -0.41 -0.83]\n",
      " [-0.38 -0.33 -0.86]\n",
      " [-0.55 -0.54 -0.64]\n",
      " [-0.92 -0.33 -0.2 ]\n",
      " [-0.55 -0.08  0.83]\n",
      " [-0.61 -0.2   0.77]\n",
      " [-0.64 -0.47  0.61]\n",
      " [-0.64 -0.16  0.75]\n",
      " [-0.53  0.13  0.84]]\n"
     ]
    }
   ],
   "source": [
    "# Compute Cosine sim between the query and docs in the lower dimensional space\n",
    "\n",
    "# first compute the normamlized versions of the query and the docs by dividing each vector by their norm\n",
    "\n",
    "qNorm = lowDimQuery / la.norm(lowDimQuery)\n",
    "\n",
    "docNorm = np.array([vt_ld[:,i]/la.norm(vt_ld[:,i]) for i in range(len(vt_ld[0]))])\t\t\n",
    "print(docNorm)"
   ]
  },
  {
   "cell_type": "code",
   "execution_count": 52,
   "metadata": {},
   "outputs": [
    {
     "name": "stdout",
     "output_type": "stream",
     "text": [
      "Cosine similarity between Document 8 and the query is: 0.9693\n",
      "Cosine similarity between Document 9 and the query is: 0.8843\n",
      "Cosine similarity between Document 6 and the query is: 0.8604\n",
      "Cosine similarity between Document 5 and the query is: 0.8362\n",
      "Cosine similarity between Document 7 and the query is: 0.8309\n",
      "Cosine similarity between Document 12 and the query is: 0.4358\n",
      "Cosine similarity between Document 13 and the query is: 0.1840\n",
      "Cosine similarity between Document 11 and the query is: 0.1767\n",
      "Cosine similarity between Document 10 and the query is: 0.0404\n",
      "Cosine similarity between Document 1 and the query is: -0.0555\n",
      "Cosine similarity between Document 0 and the query is: -0.0810\n",
      "Cosine similarity between Document 3 and the query is: -0.1039\n",
      "Cosine similarity between Document 14 and the query is: -0.1097\n",
      "Cosine similarity between Document 4 and the query is: -0.1119\n",
      "Cosine similarity between Document 2 and the query is: -0.1375\n"
     ]
    }
   ],
   "source": [
    "# Cosine is now the dot product since the vectors are already normalized\n",
    "sims = np.dot(qNorm, docNorm.T)\n",
    "\n",
    "# return indices of the docs in decending order of similarity to the query\n",
    "simInds = sims.argsort()[::-1]\n",
    "for i in simInds:\n",
    "    print(\"Cosine similarity between Document %d and the query is: %.4f\" %(i,sims[i]))"
   ]
  },
  {
   "cell_type": "markdown",
   "metadata": {},
   "source": [
    "#### Now we can also cluster documents, but this time using only the low dimensional representation of the documents in terms of the latent topics."
   ]
  },
  {
   "cell_type": "code",
   "execution_count": 53,
   "metadata": {},
   "outputs": [],
   "source": [
    "centroids_svd, clusters_svd = kMeans.kMeans(vt_ld.T, 3, kMeans.distCosine, kMeans.randCent)"
   ]
  },
  {
   "cell_type": "code",
   "execution_count": 54,
   "metadata": {},
   "outputs": [
    {
     "name": "stdout",
     "output_type": "stream",
     "text": [
      "[[1.   0.  ]\n",
      " [1.   0.  ]\n",
      " [1.   0.  ]\n",
      " [1.   0.  ]\n",
      " [1.   0.  ]\n",
      " [2.   0.05]\n",
      " [2.   0.01]\n",
      " [2.   0.01]\n",
      " [2.   0.  ]\n",
      " [2.   0.01]\n",
      " [0.   0.  ]\n",
      " [0.   0.  ]\n",
      " [0.   0.  ]\n",
      " [0.   0.  ]\n",
      " [0.   0.  ]]\n"
     ]
    }
   ],
   "source": [
    "print(clusters_svd)"
   ]
  },
  {
   "cell_type": "code",
   "execution_count": null,
   "metadata": {},
   "outputs": [],
   "source": []
  }
 ],
 "metadata": {
  "kernelspec": {
   "display_name": "Python 3",
   "language": "python",
   "name": "python3"
  },
  "language_info": {
   "codemirror_mode": {
    "name": "ipython",
    "version": 3
   },
   "file_extension": ".py",
   "mimetype": "text/x-python",
   "name": "python",
   "nbconvert_exporter": "python",
   "pygments_lexer": "ipython3",
   "version": "3.7.4"
  }
 },
 "nbformat": 4,
 "nbformat_minor": 1
}
